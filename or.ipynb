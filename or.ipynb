{
 "cells": [
  {
   "cell_type": "code",
   "execution_count": 3,
   "metadata": {},
   "outputs": [
    {
     "name": "stdout",
     "output_type": "stream",
     "text": [
      "Requirement already satisfied: pdf2image in c:\\users\\konate-kernel\\appdata\\local\\programs\\python\\python310\\lib\\site-packages (1.16.3)\n",
      "Requirement already satisfied: pillow in c:\\users\\konate-kernel\\appdata\\local\\programs\\python\\python310\\lib\\site-packages (from pdf2image) (9.5.0)\n",
      "Note: you may need to restart the kernel to use updated packages.\n"
     ]
    }
   ],
   "source": [
    "pip install pdf2image"
   ]
  },
  {
   "cell_type": "code",
   "execution_count": 7,
   "metadata": {},
   "outputs": [
    {
     "name": "stdout",
     "output_type": "stream",
     "text": [
      "REPUBLIQUE DE COTE D'IVOIRE\n",
      "Carte Nationale d'identité\n",
      "tmathiculation ©0082 3794 53\n",
      "\n",
      "\n"
     ]
    }
   ],
   "source": [
    "import pytesseract\n",
    "from pdf2image import convert_from_path\n",
    "import cv2\n",
    "pytesseract.pytesseract.tesseract_cmd = r'C:\\Program Files\\Tesseract-OCR\\tesseract.exe'\n",
    "def extract_ocr_info(file_path):\n",
    "    # Vérifier si le fichier est un PDF ou une image\n",
    "    if file_path.endswith('.pdf'):\n",
    "        # Convertir le PDF en images\n",
    "        pages = convert_from_path(file_path)\n",
    "        \n",
    "        # Parcourir chaque page et extraire le texte avec OCR\n",
    "        ocr_text = ''\n",
    "        for page in pages:\n",
    "            image = cv2.cvtColor(np.array(page), cv2.COLOR_RGB2BGR)\n",
    "            text = pytesseract.image_to_string(image)\n",
    "            ocr_text += text + '\\n'\n",
    "    else:\n",
    "        # Charger l'image\n",
    "        image = cv2.imread(file_path)\n",
    "        \n",
    "        # Extraire le texte avec OCR\n",
    "        ocr_text = pytesseract.image_to_string(image)\n",
    "    \n",
    "    # Retourner le texte extrait\n",
    "    return ocr_text\n",
    "\n",
    "# Chemin vers le fichier PDF ou l'image contenant les informations\n",
    "file_path = 'cni.jpg'\n",
    "\n",
    "# Extraire les informations avec OCR\n",
    "extracted_text = extract_ocr_info(file_path)\n",
    "\n",
    "# Afficher le texte extrait\n",
    "print(extracted_text)\n"
   ]
  }
 ],
 "metadata": {
  "kernelspec": {
   "display_name": "Python 3",
   "language": "python",
   "name": "python3"
  },
  "language_info": {
   "codemirror_mode": {
    "name": "ipython",
    "version": 3
   },
   "file_extension": ".py",
   "mimetype": "text/x-python",
   "name": "python",
   "nbconvert_exporter": "python",
   "pygments_lexer": "ipython3",
   "version": "3.10.11"
  },
  "orig_nbformat": 4
 },
 "nbformat": 4,
 "nbformat_minor": 2
}
