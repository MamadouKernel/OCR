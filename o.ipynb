{
 "cells": [
  {
   "cell_type": "code",
   "execution_count": 5,
   "metadata": {},
   "outputs": [
    {
     "name": "stdout",
     "output_type": "stream",
     "text": [
      "Requirement already satisfied: opencv-python in c:\\users\\konate-kernel\\appdata\\local\\programs\\python\\python310\\lib\\site-packages (4.7.0.72)\n",
      "Requirement already satisfied: numpy>=1.21.2 in c:\\users\\konate-kernel\\appdata\\local\\programs\\python\\python310\\lib\\site-packages (from opencv-python) (1.23.5)\n",
      "Note: you may need to restart the kernel to use updated packages.\n"
     ]
    }
   ],
   "source": [
    "pip install --upgrade opencv-python"
   ]
  },
  {
   "cell_type": "code",
   "execution_count": 6,
   "metadata": {},
   "outputs": [
    {
     "ename": "IndexError",
     "evalue": "tuple index out of range",
     "output_type": "error",
     "traceback": [
      "\u001b[1;31m---------------------------------------------------------------------------\u001b[0m",
      "\u001b[1;31mIndexError\u001b[0m                                Traceback (most recent call last)",
      "Cell \u001b[1;32mIn[6], line 34\u001b[0m\n\u001b[0;32m     31\u001b[0m passport_file \u001b[39m=\u001b[39m \u001b[39m'\u001b[39m\u001b[39mcanada.jpg\u001b[39m\u001b[39m'\u001b[39m\n\u001b[0;32m     33\u001b[0m \u001b[39m# Extraire les informations du code MBZ\u001b[39;00m\n\u001b[1;32m---> 34\u001b[0m mrz_info \u001b[39m=\u001b[39m extract_mrz_info(passport_file)\n\u001b[0;32m     36\u001b[0m \u001b[39m# Afficher les informations extraites\u001b[39;00m\n\u001b[0;32m     37\u001b[0m \u001b[39mfor\u001b[39;00m line \u001b[39min\u001b[39;00m mrz_info:\n",
      "Cell \u001b[1;32mIn[6], line 10\u001b[0m, in \u001b[0;36mextract_mrz_info\u001b[1;34m(image_path)\u001b[0m\n\u001b[0;32m      8\u001b[0m     \u001b[39mprint\u001b[39m(\u001b[39m\"\u001b[39m\u001b[39mErreur lors du chargement de l\u001b[39m\u001b[39m'\u001b[39m\u001b[39mimage.\u001b[39m\u001b[39m\"\u001b[39m)\n\u001b[0;32m      9\u001b[0m \u001b[39melse\u001b[39;00m:\n\u001b[1;32m---> 10\u001b[0m     \u001b[39mif\u001b[39;00m image\u001b[39m.\u001b[39;49mshape[\u001b[39m2\u001b[39;49m] \u001b[39m!=\u001b[39m \u001b[39m1\u001b[39m:\n\u001b[0;32m     11\u001b[0m         \u001b[39mprint\u001b[39m(\u001b[39m\"\u001b[39m\u001b[39mL\u001b[39m\u001b[39m'\u001b[39m\u001b[39mimage n\u001b[39m\u001b[39m'\u001b[39m\u001b[39mest pas en niveaux de gris.\u001b[39m\u001b[39m\"\u001b[39m)\n\u001b[0;32m     14\u001b[0m \u001b[39m# Appliquer un prétraitement pour améliorer la reconnaissance\u001b[39;00m\n",
      "\u001b[1;31mIndexError\u001b[0m: tuple index out of range"
     ]
    }
   ],
   "source": [
    "import cv2\n",
    "import pytesseract\n",
    "\n",
    "def extract_mrz_info(image_path):\n",
    "    # Charger l'image en niveaux de gris\n",
    "    image = cv2.imread(image_path, 0)\n",
    "    if image is None:\n",
    "        print(\"Erreur lors du chargement de l'image.\")\n",
    "    else:\n",
    "        if image.shape[2] != 1:\n",
    "            print(\"L'image n'est pas en niveaux de gris.\")\n",
    "\n",
    "\n",
    "    # Appliquer un prétraitement pour améliorer la reconnaissance\n",
    "    image = cv2.cvtColor(image, cv2.COLOR_BGR2GRAY)\n",
    "    image = cv2.threshold(image, 0, 255, cv2.THRESH_BINARY | cv2.THRESH_OTSU)[1]\n",
    "\n",
    "    # Appliquer l'OCR avec Pytesseract pour extraire le texte du code MBZ\n",
    "    mrz_text = pytesseract.image_to_string(image, config='--psm 6')\n",
    "\n",
    "    # Diviser le texte en lignes\n",
    "    lines = mrz_text.split('\\n')\n",
    "\n",
    "    # Filtrer les lignes vides et les lignes contenant des caractères non pertinents\n",
    "    filtered_lines = [line.strip() for line in lines if line.strip() and line.strip().isalnum()]\n",
    "\n",
    "    # Retourner les lignes filtrées\n",
    "    return filtered_lines\n",
    "\n",
    "# Chemin vers l'image ou le fichier PDF contenant le passeport\n",
    "passport_file = 'canada.jpg'\n",
    "\n",
    "# Extraire les informations du code MBZ\n",
    "mrz_info = extract_mrz_info(passport_file)\n",
    "\n",
    "# Afficher les informations extraites\n",
    "for line in mrz_info:\n",
    "    print(line)\n"
   ]
  }
 ],
 "metadata": {
  "kernelspec": {
   "display_name": "Python 3",
   "language": "python",
   "name": "python3"
  },
  "language_info": {
   "codemirror_mode": {
    "name": "ipython",
    "version": 3
   },
   "file_extension": ".py",
   "mimetype": "text/x-python",
   "name": "python",
   "nbconvert_exporter": "python",
   "pygments_lexer": "ipython3",
   "version": "3.10.11"
  },
  "orig_nbformat": 4
 },
 "nbformat": 4,
 "nbformat_minor": 2
}
