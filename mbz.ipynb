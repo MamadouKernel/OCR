{
 "cells": [
  {
   "cell_type": "code",
   "execution_count": 1,
   "metadata": {},
   "outputs": [
    {
     "name": "stdout",
     "output_type": "stream",
     "text": [
      "Collecting tesseract\n",
      "  Using cached tesseract-0.1.3.tar.gz (45.6 MB)\n",
      "  Preparing metadata (setup.py): started\n",
      "  Preparing metadata (setup.py): finished with status 'error'\n",
      "Note: you may need to restart the kernel to use updated packages.\n"
     ]
    },
    {
     "name": "stderr",
     "output_type": "stream",
     "text": [
      "  error: subprocess-exited-with-error\n",
      "  \n",
      "  × python setup.py egg_info did not run successfully.\n",
      "  │ exit code: 1\n",
      "  ╰─> [12 lines of output]\n",
      "      Traceback (most recent call last):\n",
      "        File \"<string>\", line 2, in <module>\n",
      "        File \"<pip-setuptools-caller>\", line 14, in <module>\n",
      "        File \"c:\\Users\\KONATE-KERNEL\\AppData\\Local\\Programs\\Python\\Python310\\lib\\site-packages\\setuptools\\__init__.py\", line 20, in <module>\n",
      "          from setuptools.dist import Distribution, Feature\n",
      "        File \"c:\\Users\\KONATE-KERNEL\\AppData\\Local\\Programs\\Python\\Python310\\lib\\site-packages\\setuptools\\dist.py\", line 34, in <module>\n",
      "          from setuptools.depends import Require\n",
      "        File \"c:\\Users\\KONATE-KERNEL\\AppData\\Local\\Programs\\Python\\Python310\\lib\\site-packages\\setuptools\\depends.py\", line 7, in <module>\n",
      "          from .py33compat import Bytecode\n",
      "        File \"c:\\Users\\KONATE-KERNEL\\AppData\\Local\\Programs\\Python\\Python310\\lib\\site-packages\\setuptools\\py33compat.py\", line 55, in <module>\n",
      "          unescape = getattr(html, 'unescape', html_parser.HTMLParser().unescape)\n",
      "      AttributeError: 'HTMLParser' object has no attribute 'unescape'\n",
      "      [end of output]\n",
      "  \n",
      "  note: This error originates from a subprocess, and is likely not a problem with pip.\n",
      "error: metadata-generation-failed\n",
      "\n",
      "× Encountered error while generating package metadata.\n",
      "╰─> See above for output.\n",
      "\n",
      "note: This is an issue with the package mentioned above, not pip.\n",
      "hint: See above for details.\n"
     ]
    }
   ],
   "source": [
    "pip install tesseract"
   ]
  },
  {
   "cell_type": "code",
   "execution_count": 5,
   "metadata": {},
   "outputs": [
    {
     "name": "stdout",
     "output_type": "stream",
     "text": [
      "senor\n",
      "Vv\n"
     ]
    }
   ],
   "source": [
    "import cv2\n",
    "import pytesseract\n",
    "pytesseract.pytesseract.tesseract_cmd = r'C:\\Program Files\\Tesseract-OCR\\tesseract.exe'\n",
    "\n",
    "def extract_mrz_info(image_path):\n",
    "    # Charger l'image en niveaux de gris\n",
    "    image = cv2.imread(image_path, 0)\n",
    "\n",
    "    # Appliquer un prétraitement pour améliorer la reconnaissance\n",
    "    image = cv2.medianBlur(image, 3)\n",
    "\n",
    "    # Appliquer l'OCR avec Pytesseract pour extraire le texte du code MBZ\n",
    "    mrz_text = pytesseract.image_to_string(image, config='--psm 6')\n",
    "\n",
    "    # Diviser le texte en lignes\n",
    "    lines = mrz_text.split('\\n')\n",
    "\n",
    "    # Filtrer les lignes vides et les lignes contenant des caractères non pertinents\n",
    "    filtered_lines = [line for line in lines if line.strip() and line.strip().isalnum()]\n",
    "\n",
    "    # Retourner les lignes filtrées\n",
    "    return filtered_lines\n",
    "\n",
    "# Chemin vers l'image ou le fichier PDF contenant le passeport\n",
    "passport_file = './passeport.png'\n",
    "\n",
    "# Extraire les informations du code MBZ\n",
    "mrz_info = extract_mrz_info(passport_file)\n",
    "\n",
    "# Afficher les informations extraites\n",
    "for line in mrz_info:\n",
    "    print(line)\n"
   ]
  }
 ],
 "metadata": {
  "kernelspec": {
   "display_name": "Python 3",
   "language": "python",
   "name": "python3"
  },
  "language_info": {
   "codemirror_mode": {
    "name": "ipython",
    "version": 3
   },
   "file_extension": ".py",
   "mimetype": "text/x-python",
   "name": "python",
   "nbconvert_exporter": "python",
   "pygments_lexer": "ipython3",
   "version": "3.10.11"
  },
  "orig_nbformat": 4
 },
 "nbformat": 4,
 "nbformat_minor": 2
}
