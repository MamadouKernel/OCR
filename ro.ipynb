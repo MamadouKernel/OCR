{
 "cells": [
  {
   "cell_type": "code",
   "execution_count": 10,
   "metadata": {},
   "outputs": [
    {
     "name": "stdout",
     "output_type": "stream",
     "text": [
      "Requirement already satisfied: opencv-python in c:\\users\\konate-kernel\\appdata\\local\\programs\\python\\python310\\lib\\site-packages (4.7.0.72)\n",
      "Requirement already satisfied: numpy>=1.21.2 in c:\\users\\konate-kernel\\appdata\\local\\programs\\python\\python310\\lib\\site-packages (from opencv-python) (1.23.5)\n",
      "Note: you may need to restart the kernel to use updated packages.\n"
     ]
    }
   ],
   "source": [
    "pip install opencv-python"
   ]
  },
  {
   "cell_type": "code",
   "execution_count": 13,
   "metadata": {},
   "outputs": [
    {
     "name": "stdout",
     "output_type": "stream",
     "text": [
      "Type de document: RE\n",
      "Pays émetteur: PUB\n",
      "Nom du titulaire: LIQUE DE COTE D'IVOIRE\n",
      "Carte Nahonake D\n"
     ]
    }
   ],
   "source": [
    "import cv2\n",
    "import pytesseract\n",
    "pytesseract.pytesseract.tesseract_cmd = r'C:\\Program Files\\Tesseract-OCR\\tesseract.exe'\n",
    "\n",
    "def decode_mrz_from_image(image_path):\n",
    "    # Charger l'image en niveaux de gris\n",
    "    image = cv2.imread(image_path, 0)\n",
    "\n",
    "    # Appliquer un prétraitement pour améliorer la reconnaissance\n",
    "    image = cv2.medianBlur(image, 3)\n",
    "\n",
    "    # Appliquer l'OCR avec Pytesseract pour extraire le texte du code MBZ\n",
    "    mrz_text = pytesseract.image_to_string(image, config='--psm 6')\n",
    "\n",
    "    # Définir les positions et les longueurs de chaque section du code MBZ\n",
    "    section_positions = [0, 2, 5, 44]  # Exemple : positions pour les champs type de document, pays émetteur, nom du titulaire\n",
    "    section_lengths = [2, 3, 39]  # Exemple : longueurs pour les champs type de document, pays émetteur, nom du titulaire\n",
    "    \n",
    "    # Déchiffrer chaque section du code MBZ\n",
    "    decoded_sections = []\n",
    "    for pos, length in zip(section_positions, section_lengths):\n",
    "        section = mrz_text[pos:pos+length]\n",
    "        decoded_sections.append(section.strip())\n",
    "    \n",
    "    # Analyser et valider chaque section si nécessaire\n",
    "    # Exemple : valider le champ pays émetteur en vérifiant s'il correspond à un pays valide\n",
    "    \n",
    "    # Rassembler les informations déchiffrées\n",
    "    decoded_info = {\n",
    "        'Type de document': decoded_sections[0],\n",
    "        'Pays émetteur': decoded_sections[1],\n",
    "        'Nom du titulaire': decoded_sections[2]\n",
    "        # Ajouter d'autres champs selon les besoins\n",
    "    }\n",
    "    \n",
    "    return decoded_info\n",
    "\n",
    "# Exemple d'utilisation\n",
    "image_path = 'cni.jpg'\n",
    "decoded_info = decode_mrz_from_image(image_path)\n",
    "\n",
    "# Afficher les informations déchiffrées\n",
    "for key, value in decoded_info.items():\n",
    "    print(f'{key}: {value}')\n"
   ]
  },
  {
   "cell_type": "code",
   "execution_count": null,
   "metadata": {},
   "outputs": [],
   "source": []
  }
 ],
 "metadata": {
  "kernelspec": {
   "display_name": "Python 3",
   "language": "python",
   "name": "python3"
  },
  "language_info": {
   "codemirror_mode": {
    "name": "ipython",
    "version": 3
   },
   "file_extension": ".py",
   "mimetype": "text/x-python",
   "name": "python",
   "nbconvert_exporter": "python",
   "pygments_lexer": "ipython3",
   "version": "3.10.11"
  },
  "orig_nbformat": 4
 },
 "nbformat": 4,
 "nbformat_minor": 2
}
